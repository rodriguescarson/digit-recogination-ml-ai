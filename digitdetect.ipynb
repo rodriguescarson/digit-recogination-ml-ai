{
 "cells": [
  {
   "cell_type": "code",
   "execution_count": 9,
   "id": "15e01c81",
   "metadata": {},
   "outputs": [],
   "source": [
    "#carson rodrigues submission\n",
    "#Import necessary libraries\n",
    "import pandas as pd\n",
    "import matplotlib.pyplot as plt\n",
    "import matplotlib.image as mpimg\n",
    "import numpy as np\n",
    "import seaborn as sns\n",
    "\n",
    "%matplotlib inline\n",
    "\n",
    "np.random.seed(2)\n",
    "from sklearn.model_selection import train_test_split\n",
    "from sklearn.metrics import confusion_matrix\n",
    "from keras.utils.np_utils import to_categorical\n",
    "from tensorflow.keras import Sequential\n",
    "from keras.preprocessing.image import ImageDataGenerator\n",
    "from keras.callbacks import ReduceLROnPlateau\n",
    "from keras.layers import Dense, Dropout, Conv2D, Flatten, MaxPool2D, BatchNormalization\n",
    "from tensorflow.keras.optimizers import RMSprop\n",
    "import tensorflow as tf\n",
    "import itertools\n",
    "\n",
    "sns.set(style='darkgrid', context='notebook', palette='deep')"
   ]
  },
  {
   "cell_type": "code",
   "execution_count": 10,
   "id": "eda006a6",
   "metadata": {},
   "outputs": [],
   "source": [
    "import gzip\n",
    "f = gzip.open('train-images-idx3-ubyte.gz','r')\n",
    "\n",
    "image_size = 30\n",
    "num_images = 6\n",
    "\n",
    "import numpy as np\n",
    "f.read(16)\n",
    "buf = f.read(image_size * image_size * num_images)\n",
    "data = np.frombuffer(buf, dtype=np.uint8).astype(np.float32)\n",
    "data = data.reshape(num_images, image_size, image_size, 1)"
   ]
  },
  {
   "cell_type": "code",
   "execution_count": 11,
   "id": "1111fd21",
   "metadata": {},
   "outputs": [
    {
     "data": {
      "image/png": "[encoded data removed]",
      "text/plain": [
       "<Figure size 432x288 with 1 Axes>"
      ]
     },
     "metadata": {},
     "output_type": "display_data"
    }
   ],
   "source": [
    "import matplotlib.pyplot as plt\n",
    "image = np.asarray(data[2]).squeeze()\n",
    "plt.imshow(image)\n",
    "plt.show()"
   ]
  },
  {
   "cell_type": "code",
   "execution_count": 13,
   "id": "20664566",
   "metadata": {},
   "outputs": [
    {
     "name": "stdout",
     "output_type": "stream",
     "text": [
      "[7]\n",
      "[2]\n",
      "[1]\n",
      "[0]\n",
      "[4]\n",
      "[1]\n",
      "[4]\n",
      "[9]\n",
      "[5]\n",
      "[9]\n",
      "[0]\n",
      "[6]\n",
      "[9]\n",
      "[0]\n",
      "[1]\n",
      "[5]\n",
      "[9]\n",
      "[7]\n",
      "[3]\n",
      "[4]\n",
      "[9]\n",
      "[6]\n",
      "[6]\n",
      "[5]\n",
      "[4]\n",
      "[0]\n",
      "[7]\n",
      "[4]\n",
      "[0]\n",
      "[1]\n",
      "[3]\n",
      "[1]\n",
      "[3]\n",
      "[4]\n",
      "[7]\n",
      "[2]\n",
      "[7]\n",
      "[1]\n",
      "[2]\n",
      "[1]\n"
     ]
    }
   ],
   "source": [
    "f = gzip.open('train-labels-idx1-ubyte.gz','r')\n",
    "f.read(8)\n",
    "for i in range(0,40):   \n",
    "    buf = f.read(1)\n",
    "    labels = np.frombuffer(buf, dtype=np.uint8).astype(np.int64)\n",
    "    print(labels)"
   ]
  },
  {
   "cell_type": "code",
   "execution_count": null,
   "id": "7f1cec3e",
   "metadata": {},
   "outputs": [],
   "source": []
  }
 ],
 "metadata": {
  "kernelspec": {
   "display_name": "Python 3",
   "language": "python",
   "name": "python3"
  },
  "language_info": {
   "codemirror_mode": {
    "name": "ipython",
    "version": 3
   },
   "file_extension": ".py",
   "mimetype": "text/x-python",
   "name": "python",
   "nbconvert_exporter": "python",
   "pygments_lexer": "ipython3",
   "version": "3.8.8"
  }
 },
 "nbformat": 4,
 "nbformat_minor": 5
}
